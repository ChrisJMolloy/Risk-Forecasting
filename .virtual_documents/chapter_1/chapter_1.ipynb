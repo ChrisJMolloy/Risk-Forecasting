import yfinance
import numpy as np
import pandas as pd
pd.options.plotting.backend = "plotly"
import plotly.express as px
import plotly.graph_objs as go
import scipy
from statsmodels.stats.diagnostic import acorr_ljungbox
from statsmodels.graphics.gofplots import qqplot





s_and_p = yfinance.download(tickers = "^GSPC", start = "1929-01-01", end = "2009-12-31", interval = "1d", auto_adjust=True)


close_prices = s_and_p['Close']['^GSPC']
log_returns = np.log(close_prices).diff()[1:]


fig = px.line(log_returns, x=log_returns.index, y='^GSPC', title='Log Returns of S&P 500', width=600, height=400)
fig.update_layout(yaxis_title='Log Returns')
fig.show()


mean_log_returns = np.mean(log_returns)
std_log_returns = np.std(log_returns, ddof=1)
min_log_returns = np.min(log_returns)
max_log_returns = np.max(log_returns)
skew_log_returns = scipy.stats.skew(log_returns)
kurtosis_log_returns = scipy.stats.kurtosis(log_returns)
autocorr_log_returns = log_returns.autocorr()
autocorr_square_log_returns = (log_returns**2).autocorr()
#Jarque-Bera
j_res = scipy.stats.jarque_bera(log_returns)
jarque_p_values = j_res.pvalue
#Ljung-Box
ljung_box = acorr_ljungbox(log_returns, lags=[20], return_df=False)['lb_pvalue'][20]
#Ljung-Box square
ljung_box_squared = acorr_ljungbox(log_returns**2, lags=[20], return_df=False)['lb_pvalue'][20]


# Values may slightly differ from the book based on the method 
print(f'Mean Log returns: {round(mean_log_returns,5)}')
print(f'Standard Deviation Log returns: {round(std_log_returns,5)}')
print(f'Min Log returns: {round(min_log_returns,5)}')
print(f'Max Log returns: {round(max_log_returns,5)}')
print(f'Skewness Log returns: {round(skew_log_returns,5)}')
print(f'Kurtosis Log returns: {round(kurtosis_log_returns,5)}')
print(f'Autocorrelation Log returns: {round(autocorr_log_returns,5)}')
print(f'Autocorrelation Squared Log returns: {round(autocorr_square_log_returns,5)}')
print(f'Jarque-Bera (p-value): {round(jarque_p_values,5)}')
print(f'Ljung-Box 20 lags (p-value): {round(ljung_box,5)}')
print(f'Ljung-Box squared returns 20 lags (p-value): {round(ljung_box_squared,5)}')





lags = range(1, 51)
autocorrs = [log_returns.autocorr(lag) for lag in lags]


fig = px.line(x=lags, y=autocorrs, title='Log Returns Autocorrelation', width=600, height=400)
fig.update_layout(yaxis_title='Autocorrelation', xaxis_title='Lag')
fig.show()


ljungbox_df = acorr_ljungbox(log_returns, lags=[21], return_df=True)
ljungbox_df





# ks test to measure the distance between log returns and normal dist.
scipy.stats.kstest(log_returns, scipy.stats.norm.cdf).statistic


qqplot_data = qqplot(log_returns, line='s').gca().lines



fig = go.Figure()

fig.add_trace({
    'type': 'scatter',
    'x': qqplot_data[0].get_xdata(),
    'y': qqplot_data[0].get_ydata(),
    'mode': 'markers',
    'marker': {
        'color': '#19d3f3'
    }
})

fig.add_trace({
    'type': 'scatter',
    'x': qqplot_data[1].get_xdata(),
    'y': qqplot_data[1].get_ydata(),
    'mode': 'lines',
    'line': {
        'color': '#636efa'
    }

})


fig['layout'].update({
    'title': 'Quantile-Quantile Plot',
    'xaxis': {
        'title': 'Theoritical Quantities',
        'zeroline': False
    },
    'yaxis': {
        'title': 'Sample Quantities'
    },
    'showlegend': False,
    'width': 600,
    'height': 600,
})
fig.show()



